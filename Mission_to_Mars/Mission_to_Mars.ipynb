{
 "cells": [
  {
   "cell_type": "code",
   "execution_count": 1,
   "metadata": {},
   "outputs": [],
   "source": [
    "# Importing dependencies\n",
    "from bs4 import BeautifulSoup\n",
    "from selenium import webdriver\n",
    "from splinter import Browser\n",
    "from pprint import pprint\n",
    "import pymongo\n",
    "import pandas as pd\n",
    "import requests\n",
    "from flask import Flask, render_template\n",
    "import time\n",
    "import numpy as np\n",
    "import json\n",
    "executable_path = {'executable_path': 'C:\\Webdrivers\\chromedriver'}\n",
    "browser = Browser('chrome', **executable_path, headless=False)\n",
    "mars_collection = {}"
   ]
  },
  {
   "cell_type": "code",
   "execution_count": null,
   "metadata": {},
   "outputs": [],
   "source": [
    "conn = 'mongodb://localhost:27017'\n",
    "mongo = pymongo.MongoClient(conn)\n",
    "db = mongo.mars_db"
   ]
  },
  {
   "cell_type": "code",
   "execution_count": 2,
   "metadata": {},
   "outputs": [],
   "source": [
    "# Splinter\n",
    "def init_browser():\n",
    "    return Browser('chrome', **executable_path, headless=False)"
   ]
  },
  {
   "cell_type": "code",
   "execution_count": 3,
   "metadata": {},
   "outputs": [],
   "source": [
    "# Mars News Titles\n",
    "def scrape():\n",
    "    browser = Browser('chrome', **executable_path, headless=False)\n",
    "    mars_collection = {}"
   ]
  },
  {
   "cell_type": "code",
   "execution_count": 4,
   "metadata": {},
   "outputs": [],
   "source": [
    "# Mars News Url\n",
    "url = \"https://mars.nasa.gov/news/\"\n",
    "browser.visit(url)\n",
    "time.sleep(2)\n",
    "\n",
    "html = browser.html\n",
    "soup = BeautifulSoup(html, 'html.parser')\n",
    "\n",
    "mars_collection[\"news_title\"] = soup.find('div', class_=\"content_title\").get_text()\n",
    "mars_collection[\"news_snip\"] = soup.find('div', class_=\"rollover_description_inner\").get_text()"
   ]
  },
  {
   "cell_type": "code",
   "execution_count": 5,
   "metadata": {},
   "outputs": [],
   "source": [
    "# Mars Feature Image\n",
    "url_feature_image = \"https://www.jpl.nasa.gov/spaceimages/?search=&category=Mars\"\n",
    "browser.visit(url_feature_image)\n",
    "response = browser.html\n",
    "soup2 = BeautifulSoup(response, 'html.parser')\n",
    "images = soup2.find_all('a', class_=\"fancybox\")\n",
    "pic_source = []\n",
    "for image in images:\n",
    "        picture = image['data-fancybox-href']\n",
    "        pic_source.append(picture)\n",
    "mars_collection[\"featured_image_url\"] = \"https://www.jpl.nasa.gov\" + pic_source[2]"
   ]
  },
  {
   "cell_type": "code",
   "execution_count": 6,
   "metadata": {},
   "outputs": [],
   "source": [
    "# Mars Weather\n",
    "url_weather = ('https://twitter.com/marswxreport?lang=en')\n",
    "browser.visit(url_weather)\n",
    "response = browser.html\n",
    "soup3 = BeautifulSoup(response, 'html.parser')\n",
    "weather = soup3.find_all(\"div\",class_=\"js-tweet-text-container\")\n",
    "weather_mars = []\n",
    "for content in weather:\n",
    "    tweet = content.find(\"p\", class_=\"TweetTextSize TweetTextSize--normal js-tweet-text tweet-text\").text\n",
    "    weather_mars.append(tweet)\n",
    "mars_collection[\"mars_weather\"] = weather_mars[8]"
   ]
  },
  {
   "cell_type": "code",
   "execution_count": 7,
   "metadata": {},
   "outputs": [],
   "source": [
    "# Mars Facts\n",
    "url_facts = \"https://space-facts.com/mars/\"\n",
    "df_facts = pd.read_html(url_facts)[1]\n",
    "df_facts.columns = [\"Facts\",\"Values\"]\n",
    "clean_table = df_facts.set_index([\"Facts\"])\n",
    "mars_table = clean_table.to_html()\n",
    "mars_table = mars_table.replace(\"\\n\", \"\")\n",
    "mars_collection[\"fact_table\"] = mars_table"
   ]
  },
  {
   "cell_type": "code",
   "execution_count": 8,
   "metadata": {},
   "outputs": [],
   "source": [
    "# Mars Hemispheres\n",
    "hemisphere_image_urls = []"
   ]
  },
  {
   "cell_type": "code",
   "execution_count": 9,
   "metadata": {},
   "outputs": [],
   "source": [
    "# Cerberus Hemispheres\n",
    "url_cerberus = \"https://astrogeology.usgs.gov/search/map/Mars/Viking/cerberus_enhanced\"\n",
    "\n",
    "browser.visit(url_cerberus)\n",
    "response_cerberus = browser.html\n",
    "soup4 = BeautifulSoup(response_cerberus, 'html.parser')\n",
    "cerberus_img = soup4.find_all('div', class_=\"wide-image-wrapper\")\n",
    "for img in cerberus_img:\n",
    "    pic_cerberus = img.find('li')\n",
    "    cerberus_full_img = pic_cerberus.find('a')['href']\n",
    "cerberus_title = soup4.find('h2', class_='title').get_text()\n",
    "cerberus_hem = {\"Title\": cerberus_title, \"url\": cerberus_full_img}\n",
    "\n",
    "hemisphere_image_urls.append(cerberus_hem)"
   ]
  },
  {
   "cell_type": "code",
   "execution_count": 10,
   "metadata": {},
   "outputs": [],
   "source": [
    "# Schiaparelli Hemisphere\n",
    "url_schiaparelli = \"https://astrogeology.usgs.gov/search/map/Mars/Viking/schiaparelli_enhanced\"\n",
    "browser.visit(url_cerberus)\n",
    "response_schiaparelli = browser.html\n",
    "soup5 = BeautifulSoup(response_schiaparelli, 'html.parser')\n",
    "schiaparelli_img = soup5.find_all('div', class_=\"wide-image-wrapper\")\n",
    "for img in schiaparelli_img:\n",
    "    pic_schiaparelli = img.find('li')\n",
    "    schiaparelli_full_img = pic_schiaparelli.find('a')['href']\n",
    "\n",
    "shiaparelli_title = soup5.find('h2', class_='title').get_text()\n",
    "shiaparelli_hem = {\"Title\": shiaparelli_title, \"url\": schiaparelli_full_img}\n",
    "\n",
    "hemisphere_image_urls.append(shiaparelli_hem)"
   ]
  },
  {
   "cell_type": "code",
   "execution_count": 11,
   "metadata": {},
   "outputs": [],
   "source": [
    "# Syrtis Hemisphere\n",
    "url_syrtis = ('https://astrogeology.usgs.gov/search/map/Mars/Viking/syrtis_major_enhanced')\n",
    "browser.visit(url_syrtis)\n",
    "response_syrtis = browser.html\n",
    "soup6 = BeautifulSoup(response_syrtis, 'html.parser')\n",
    "syrtris_img = soup6.find_all('div', class_=\"wide-image-wrapper\")\n",
    "for img in syrtris_img:\n",
    "    pic_syrtris = img.find('li')\n",
    "    syrtris_full_img = pic_syrtris.find('a')['href']\n",
    "\n",
    "syrtris_title = soup6.find('h2', class_='title').get_text()\n",
    "syrtris_hem = {\"Title\": syrtris_title, \"url\": syrtris_full_img}\n",
    "\n",
    "hemisphere_image_urls.append(syrtris_hem)"
   ]
  },
  {
   "cell_type": "code",
   "execution_count": 12,
   "metadata": {},
   "outputs": [],
   "source": [
    "# Valles Marineris Hemisphere\n",
    "url_valles = ('https://astrogeology.usgs.gov/search/map/Mars/Viking/valles_marineris_enhanced')\n",
    "browser.visit(url_valles)\n",
    "response_valles = browser.html\n",
    "soup7 = BeautifulSoup(response_valles, 'html.parser')\n",
    "valles_img = soup7.find_all('div', class_=\"wide-image-wrapper\")\n",
    "for img in valles_img:\n",
    "     pic_valles = img.find('li')\n",
    "     valles_full_img = pic_valles.find('a')['href']\n",
    "\n",
    "valles_title = soup7.find('h2', class_='title').get_text()\n",
    "valles_hem = {\"Title\": valles_title, \"url\": valles_full_img}\n",
    "\n",
    "hemisphere_image_urls.append(valles_hem)"
   ]
  },
  {
   "cell_type": "code",
   "execution_count": null,
   "metadata": {},
   "outputs": [],
   "source": [
    "Mission_to_Mars = db.Mission_to_Mars\n",
    "Mission_to_Mars.update({}, mars_info_dat, upsert=True)"
   ]
  }
 ],
 "metadata": {
  "kernelspec": {
   "display_name": "Python 3",
   "language": "python",
   "name": "python3"
  },
  "language_info": {
   "codemirror_mode": {
    "name": "ipython",
    "version": 3
   },
   "file_extension": ".py",
   "mimetype": "text/x-python",
   "name": "python",
   "nbconvert_exporter": "python",
   "pygments_lexer": "ipython3",
   "version": "3.7.3"
  }
 },
 "nbformat": 4,
 "nbformat_minor": 2
}
